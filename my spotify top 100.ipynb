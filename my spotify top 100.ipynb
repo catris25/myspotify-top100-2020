{
 "cells": [
  {
   "cell_type": "code",
   "execution_count": 2,
   "metadata": {
    "ExecuteTime": {
     "end_time": "2021-01-16T15:08:55.717325Z",
     "start_time": "2021-01-16T15:08:55.711337Z"
    }
   },
   "outputs": [],
   "source": [
    "with open(\"../secret.txt\", \"r\") as f:\n",
    "    secret = f.read().splitlines()\n",
    "\n",
    "CLIENT_ID = secret[0]\n",
    "CLIENT_SECRET = secret[1]"
   ]
  },
  {
   "cell_type": "code",
   "execution_count": 3,
   "metadata": {
    "ExecuteTime": {
     "end_time": "2021-01-16T15:09:06.597578Z",
     "start_time": "2021-01-16T15:09:04.933004Z"
    }
   },
   "outputs": [],
   "source": [
    "import pandas as pd\n",
    "import numpy as np\n",
    "import json"
   ]
  },
  {
   "cell_type": "code",
   "execution_count": 4,
   "metadata": {
    "ExecuteTime": {
     "end_time": "2021-01-16T15:09:14.523815Z",
     "start_time": "2021-01-16T15:09:14.102221Z"
    }
   },
   "outputs": [],
   "source": [
    "import spotipy\n",
    "from spotipy.oauth2 import SpotifyClientCredentials\n",
    "\n",
    "playlist_uri = 'spotify:playlist:37i9dQZF1EMh2NooMe2S3n'\n",
    "spotify = spotipy.Spotify(client_credentials_manager=SpotifyClientCredentials(CLIENT_ID, CLIENT_SECRET))"
   ]
  },
  {
   "cell_type": "code",
   "execution_count": 5,
   "metadata": {
    "ExecuteTime": {
     "end_time": "2021-01-16T15:09:28.732935Z",
     "start_time": "2021-01-16T15:09:27.370090Z"
    }
   },
   "outputs": [
    {
     "data": {
      "text/html": [
       "<div>\n",
       "<style scoped>\n",
       "    .dataframe tbody tr th:only-of-type {\n",
       "        vertical-align: middle;\n",
       "    }\n",
       "\n",
       "    .dataframe tbody tr th {\n",
       "        vertical-align: top;\n",
       "    }\n",
       "\n",
       "    .dataframe thead th {\n",
       "        text-align: right;\n",
       "    }\n",
       "</style>\n",
       "<table border=\"1\" class=\"dataframe\">\n",
       "  <thead>\n",
       "    <tr style=\"text-align: right;\">\n",
       "      <th></th>\n",
       "      <th>collaborative</th>\n",
       "      <th>description</th>\n",
       "      <th>href</th>\n",
       "      <th>id</th>\n",
       "      <th>images</th>\n",
       "      <th>name</th>\n",
       "      <th>primary_color</th>\n",
       "      <th>public</th>\n",
       "      <th>snapshot_id</th>\n",
       "      <th>type</th>\n",
       "      <th>...</th>\n",
       "      <th>owner.id</th>\n",
       "      <th>owner.type</th>\n",
       "      <th>owner.uri</th>\n",
       "      <th>tracks.href</th>\n",
       "      <th>tracks.items</th>\n",
       "      <th>tracks.limit</th>\n",
       "      <th>tracks.next</th>\n",
       "      <th>tracks.offset</th>\n",
       "      <th>tracks.previous</th>\n",
       "      <th>tracks.total</th>\n",
       "    </tr>\n",
       "  </thead>\n",
       "  <tbody>\n",
       "    <tr>\n",
       "      <th>0</th>\n",
       "      <td>False</td>\n",
       "      <td>The songs you loved most this year, all wrappe...</td>\n",
       "      <td>https://api.spotify.com/v1/playlists/37i9dQZF1...</td>\n",
       "      <td>37i9dQZF1EMh2NooMe2S3n</td>\n",
       "      <td>[{'height': None, 'url': 'https://lineup-image...</td>\n",
       "      <td>Your Top Songs 2020</td>\n",
       "      <td>None</td>\n",
       "      <td>False</td>\n",
       "      <td>MjY3NzQ2MTgsMDAwMDAwMDBmYzRhOTc1YWIyMzIzYmE1ZD...</td>\n",
       "      <td>playlist</td>\n",
       "      <td>...</td>\n",
       "      <td>spotify</td>\n",
       "      <td>user</td>\n",
       "      <td>spotify:user:spotify</td>\n",
       "      <td>https://api.spotify.com/v1/playlists/37i9dQZF1...</td>\n",
       "      <td>[{'added_at': '2020-11-27T11:38:14Z', 'added_b...</td>\n",
       "      <td>100</td>\n",
       "      <td>None</td>\n",
       "      <td>0</td>\n",
       "      <td>None</td>\n",
       "      <td>100</td>\n",
       "    </tr>\n",
       "  </tbody>\n",
       "</table>\n",
       "<p>1 rows × 27 columns</p>\n",
       "</div>"
      ],
      "text/plain": [
       "   collaborative                                        description  \\\n",
       "0          False  The songs you loved most this year, all wrappe...   \n",
       "\n",
       "                                                href                      id  \\\n",
       "0  https://api.spotify.com/v1/playlists/37i9dQZF1...  37i9dQZF1EMh2NooMe2S3n   \n",
       "\n",
       "                                              images                 name  \\\n",
       "0  [{'height': None, 'url': 'https://lineup-image...  Your Top Songs 2020   \n",
       "\n",
       "  primary_color  public                                        snapshot_id  \\\n",
       "0          None   False  MjY3NzQ2MTgsMDAwMDAwMDBmYzRhOTc1YWIyMzIzYmE1ZD...   \n",
       "\n",
       "       type  ... owner.id owner.type             owner.uri  \\\n",
       "0  playlist  ...  spotify       user  spotify:user:spotify   \n",
       "\n",
       "                                         tracks.href  \\\n",
       "0  https://api.spotify.com/v1/playlists/37i9dQZF1...   \n",
       "\n",
       "                                        tracks.items tracks.limit tracks.next  \\\n",
       "0  [{'added_at': '2020-11-27T11:38:14Z', 'added_b...          100        None   \n",
       "\n",
       "  tracks.offset tracks.previous tracks.total  \n",
       "0             0            None          100  \n",
       "\n",
       "[1 rows x 27 columns]"
      ]
     },
     "execution_count": 5,
     "metadata": {},
     "output_type": "execute_result"
    }
   ],
   "source": [
    "playlist = spotify.playlist(playlist_uri)\n",
    "pd.json_normalize(playlist)"
   ]
  },
  {
   "cell_type": "code",
   "execution_count": null,
   "metadata": {},
   "outputs": [],
   "source": []
  }
 ],
 "metadata": {
  "kernelspec": {
   "display_name": "Python 3",
   "language": "python",
   "name": "python3"
  },
  "language_info": {
   "codemirror_mode": {
    "name": "ipython",
    "version": 3
   },
   "file_extension": ".py",
   "mimetype": "text/x-python",
   "name": "python",
   "nbconvert_exporter": "python",
   "pygments_lexer": "ipython3",
   "version": "3.8.3"
  }
 },
 "nbformat": 4,
 "nbformat_minor": 4
}
